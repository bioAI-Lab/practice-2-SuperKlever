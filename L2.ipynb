{
 "cells": [
  {
   "cell_type": "markdown",
   "id": "f7e00c33",
   "metadata": {},
   "source": [
    "# Часть 1: Материалы"
   ]
  },
  {
   "cell_type": "code",
   "execution_count": null,
   "id": "c719cee4",
   "metadata": {},
   "outputs": [
    {
     "name": "stdout",
     "output_type": "stream",
     "text": [
      "Состав: Mn10 Fe20 O40\n",
      "Элементы: [Element Mn, Element Fe, Element O]\n",
      "a = 6.150493600289411 Å\n",
      "b = 6.100716953321962 Å\n",
      "c = 30.396005395963694 Å\n",
      "α = 60.279723329094324 °\n",
      "β = 59.99807904718926 °\n",
      "γ = 59.83729374457539 °\n",
      "Плотность: 4.744605346781863 g cm^-3 g/cm³\n"
     ]
    }
   ],
   "source": [
    "from pymatgen.ext.matproj import MPRester\n",
    "API_KEY = \"v0O0ieTjYWTzUPtJOKwTzSvD6jAZSCpH\"\n",
    "\n",
    "with MPRester(API_KEY) as mpr:\n",
    "    structures = mpr.get_structures(\"MnFe2O4\")\n",
    "    structure = structures[0]\n",
    "\n",
    "    composition = structure.composition\n",
    "    elements = list(composition.elements)\n",
    "\n",
    "    print(\"Состав:\", composition)\n",
    "    print(\"Элементы:\", elements)\n",
    "\n",
    "    lattice = structure.lattice\n",
    "    print(\"a =\", lattice.a, \"Å\")\n",
    "    print(\"b =\", lattice.b, \"Å\")\n",
    "    print(\"c =\", lattice.c, \"Å\")\n",
    "    print(\"α =\", lattice.alpha, \"°\")\n",
    "    print(\"β =\", lattice.beta, \"°\")\n",
    "    print(\"γ =\", lattice.gamma, \"°\")\n",
    "\n",
    "    print(\"Плотность:\", structure.density, \"g/cm³\")\n"
   ]
  },
  {
   "cell_type": "markdown",
   "id": "0bf01ced",
   "metadata": {},
   "source": [
    "# Часть 2: Последовательности ДНК/РНК"
   ]
  },
  {
   "cell_type": "code",
   "execution_count": 19,
   "id": "3e7212ea",
   "metadata": {},
   "outputs": [
    {
     "name": "stdout",
     "output_type": "stream",
     "text": [
      "ДНК: ATGCCGTAGTGCAACGAGCTA\n",
      "GC-состав: 52.38%\n",
      "Обратная комплементарная: TAGCTCGTTGCACTACGGCAT\n",
      "РНК: AUGCCGUAGUGCAACGAGCUA \n",
      "\n",
      "ДНК: GGAAACCCGCGATGTTAAA\n",
      "GC-состав: 47.37%\n",
      "Обратная комплементарная: TTTAACATCGCGGGTTTCC\n",
      "РНК: GGAAACCCGCGAUGUUAAA \n",
      "\n"
     ]
    }
   ],
   "source": [
    "from Bio.Seq import Seq\n",
    "from Bio.SeqUtils import gc_fraction\n",
    "\n",
    "seq1 = Seq(\"ATGCCGTAGTGCAACGAGCTA\")\n",
    "seq2 = Seq(\"GGAAACCCGCGATGTTAAA\")\n",
    "\n",
    "sequences = {\"gene1\": seq1, \"gene2\": seq2}\n",
    "\n",
    "for name, seq in sequences.items():\n",
    "    print(\"ДНК:\", seq)\n",
    "\n",
    "    gc_content = gc_fraction(seq) * 100\n",
    "    print(f\"GC-состав: {gc_content:.2f}%\")\n",
    "\n",
    "    rev_comp = seq.reverse_complement()\n",
    "    print(\"Обратная комплементарная:\", rev_comp)\n",
    "\n",
    "    rna = seq.transcribe()\n",
    "    print(\"РНК:\", rna, \"\\n\")"
   ]
  },
  {
   "cell_type": "markdown",
   "id": "dd84b307",
   "metadata": {},
   "source": [
    "# Часть 3: Белки"
   ]
  },
  {
   "cell_type": "code",
   "execution_count": null,
   "id": "93c5e3b4",
   "metadata": {},
   "outputs": [],
   "source": [
    "from Bio import ExPASy, SeqIO\n",
    "from Bio.SeqUtils.ProtParam import ProteinAnalysis\n",
    "import pandas as pd\n",
    "from collections import Counter\n",
    "\n",
    "uniprot_id = \"Q53F26\"  # альфа-амилаза (человек)\n",
    "handle = ExPASy.get_sprot_raw(uniprot_id)\n",
    "record = SeqIO.read(handle, \"swiss\")\n",
    "handle.close()"
   ]
  },
  {
   "cell_type": "code",
   "execution_count": 2,
   "id": "a3446408",
   "metadata": {},
   "outputs": [
    {
     "name": "stdout",
     "output_type": "stream",
     "text": [
      "Название: RecName: Full=Alpha-amylase {ECO:0000256|ARBA:ARBA00012595, ECO:0000256|RuleBase:RU361134}; EC=3.2.1.1 {ECO:0000256|ARBA:ARBA00012595, ECO:0000256|RuleBase:RU361134}; Flags: Fragment;\n",
      "Длина последовательности: 511\n",
      "Аминокислотная последовательность: MKFFLLLFTIGFCWAQYSPNTQQGRTSIVHLFEWRWVDIALECERYLAPKGFGGVQVSPPNENVAIYNPFRPWWERYQPVSYKLCTRSGNEDEFRNMVTRCNNVGVRIYVDAVINHMCGNAVSAGTSSTCGSYFNPGSRDFPAVPYSGWDFNDGKCKTGSGDIENYNDATQVRDCRLTGLLDLALEKDYVRSKIAEYMNHLIDIGVAGFRLDASKHMWPGDIKAILDKLHNLNSNWFPAGSKPFIYQEVIDLGGEPIKSSDYFGNGRVTEFKYGAKLGTIIRKWNGEKMSYLKNWGEGWGFVPSDRALVFVDNHDNQRGHGAGGASILTFWDARLYKMAVGFMLAHPYGFTRVMSSYRWPRQFQNGNDVNDWVGPPNNNGVIKEVTINPDTTCGNDWVCEHRWRQIRNMVIFRNVVDGQPFTNWYDNGSNQVAFGRGNRGFIVFNNDDWSFSLTLQTGLPAGTYCDVISGDKINGNCTGIKIYVSDDGKAHFSISNSAEDPFIAIHAESKL\n",
      "\n",
      "Состав аминокислот (%):\n",
      "A: 5.48%\n",
      "C: 2.35%\n",
      "D: 6.65%\n",
      "E: 3.72%\n",
      "F: 5.87%\n",
      "G: 9.98%\n",
      "H: 2.15%\n",
      "I: 5.87%\n",
      "K: 4.50%\n",
      "L: 5.48%\n",
      "M: 1.96%\n",
      "N: 8.22%\n",
      "P: 4.50%\n",
      "Q: 2.74%\n",
      "R: 5.48%\n",
      "S: 6.26%\n",
      "T: 4.31%\n",
      "V: 6.85%\n",
      "W: 3.52%\n",
      "Y: 4.11%\n"
     ]
    }
   ],
   "source": [
    "seq = str(record.seq)\n",
    "print(\"Название:\", record.description)\n",
    "print(\"Длина последовательности:\", len(seq))\n",
    "print(\"Аминокислотная последовательность:\", seq)\n",
    "\n",
    "analysis = ProteinAnalysis(seq)\n",
    "\n",
    "print(\"\\nСостав аминокислот (%):\")\n",
    "for aa, freq in analysis.amino_acids_percent.items():\n",
    "    print(f\"{aa}: {freq:.2f}%\")"
   ]
  },
  {
   "cell_type": "code",
   "execution_count": 3,
   "id": "f266ab1a",
   "metadata": {},
   "outputs": [
    {
     "name": "stdout",
     "output_type": "stream",
     "text": [
      "\n",
      "Наиболее частые дипептиды:\n",
      "    Dipeptide  Frequency\n",
      "111        GN   0.013725\n",
      "104        GF   0.013725\n",
      "222        ND   0.011765\n",
      "225        NG   0.011765\n",
      "115        GS   0.009804\n",
      "347        VI   0.009804\n",
      "5          AG   0.009804\n",
      "342        VD   0.007843\n",
      "355        VS   0.007843\n",
      "94         FR   0.007843\n"
     ]
    }
   ],
   "source": [
    "aa20 = \"ACDEFGHIKLMNPQRSTVWY\"\n",
    "pairs = [seq[i:i+2] for i in range(len(seq)-1) if seq[i] in aa20 and seq[i+1] in aa20]\n",
    "counts = Counter(pairs)\n",
    "total = sum(counts.values()) or 1\n",
    "dipeptides = {a+b: counts.get(a+b, 0)/total for a in aa20 for b in aa20}\n",
    "\n",
    "df_dipeptides = pd.DataFrame(list(dipeptides.items()), columns=[\"Dipeptide\", \"Frequency\"])\n",
    "df_dipeptides = df_dipeptides.sort_values(by=\"Frequency\", ascending=False)\n",
    "print(\"\\nНаиболее частые дипептиды:\")\n",
    "print(df_dipeptides.head(10))"
   ]
  }
 ],
 "metadata": {
  "kernelspec": {
   "display_name": "bioTech",
   "language": "python",
   "name": "python3"
  },
  "language_info": {
   "codemirror_mode": {
    "name": "ipython",
    "version": 3
   },
   "file_extension": ".py",
   "mimetype": "text/x-python",
   "name": "python",
   "nbconvert_exporter": "python",
   "pygments_lexer": "ipython3",
   "version": "3.11.13"
  }
 },
 "nbformat": 4,
 "nbformat_minor": 5
}
